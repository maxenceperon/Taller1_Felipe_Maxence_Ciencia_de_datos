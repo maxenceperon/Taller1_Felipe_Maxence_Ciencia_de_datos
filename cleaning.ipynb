{
 "cells": [
  {
   "cell_type": "code",
   "execution_count": 1,
   "id": "initial_id",
   "metadata": {
    "ExecuteTime": {
     "end_time": "2025-09-20T04:20:26.884098Z",
     "start_time": "2025-09-20T04:20:26.879895Z"
    },
    "collapsed": true
   },
   "outputs": [],
   "source": [
    "import numpy as np\n",
    "import pandas as pd"
   ]
  },
  {
   "cell_type": "code",
   "execution_count": 2,
   "id": "704b601c05874049",
   "metadata": {
    "ExecuteTime": {
     "end_time": "2025-09-20T04:20:26.910037Z",
     "start_time": "2025-09-20T04:20:26.905538Z"
    }
   },
   "outputs": [],
   "source": [
    "pd.set_option(\"display.max_columns\", None)\n",
    "pd.set_option(\"display.max_rows\", 100)"
   ]
  },
  {
   "cell_type": "markdown",
   "id": "41f5c5aaa070805d",
   "metadata": {},
   "source": [
    "### 1. Loading data"
   ]
  },
  {
   "cell_type": "code",
   "execution_count": 4,
   "id": "45def1044129570f",
   "metadata": {
    "ExecuteTime": {
     "end_time": "2025-09-20T04:20:27.139368Z",
     "start_time": "2025-09-20T04:20:26.915843Z"
    }
   },
   "outputs": [],
   "source": [
    "raw_df = pd.read_csv(\"./data/hotel_bookings_modified.csv\", low_memory=False)\n",
    "df = raw_df.copy()"
   ]
  },
  {
   "cell_type": "code",
   "execution_count": 5,
   "id": "6e4df8f28864cae8",
   "metadata": {
    "ExecuteTime": {
     "end_time": "2025-09-20T04:20:27.907117Z",
     "start_time": "2025-09-20T04:20:27.894091Z"
    }
   },
   "outputs": [
    {
     "data": {
      "text/plain": [
       "hotel                              object\n",
       "is_canceled                         int64\n",
       "lead_time                           int64\n",
       "arrival_date_year                 float64\n",
       "arrival_date_month                 object\n",
       "arrival_date_week_number            int64\n",
       "arrival_date_day_of_month           int64\n",
       "stays_in_weekend_nights             int64\n",
       "stays_in_week_nights                int64\n",
       "adults                              int64\n",
       "children                          float64\n",
       "babies                              int64\n",
       "meal                               object\n",
       "country                            object\n",
       "market_segment                     object\n",
       "distribution_channel               object\n",
       "is_repeated_guest                   int64\n",
       "previous_cancellations              int64\n",
       "previous_bookings_not_canceled      int64\n",
       "reserved_room_type                 object\n",
       "assigned_room_type                 object\n",
       "booking_changes                     int64\n",
       "deposit_type                       object\n",
       "agent                             float64\n",
       "company                            object\n",
       "days_in_waiting_list              float64\n",
       "customer_type                      object\n",
       "adr                               float64\n",
       "required_car_parking_spaces       float64\n",
       "total_of_special_requests         float64\n",
       "reservation_status                 object\n",
       "reservation_status_date            object\n",
       "kids                              float64\n",
       "dtype: object"
      ]
     },
     "execution_count": 5,
     "metadata": {},
     "output_type": "execute_result"
    }
   ],
   "source": [
    "df.dtypes"
   ]
  },
  {
   "cell_type": "code",
   "execution_count": 6,
   "id": "6aa04cbccde18ed3",
   "metadata": {
    "ExecuteTime": {
     "end_time": "2025-09-20T04:20:28.066689Z",
     "start_time": "2025-09-20T04:20:28.045Z"
    }
   },
   "outputs": [
    {
     "data": {
      "text/html": [
       "<div>\n",
       "<style scoped>\n",
       "    .dataframe tbody tr th:only-of-type {\n",
       "        vertical-align: middle;\n",
       "    }\n",
       "\n",
       "    .dataframe tbody tr th {\n",
       "        vertical-align: top;\n",
       "    }\n",
       "\n",
       "    .dataframe thead th {\n",
       "        text-align: right;\n",
       "    }\n",
       "</style>\n",
       "<table border=\"1\" class=\"dataframe\">\n",
       "  <thead>\n",
       "    <tr style=\"text-align: right;\">\n",
       "      <th></th>\n",
       "      <th>hotel</th>\n",
       "      <th>is_canceled</th>\n",
       "      <th>lead_time</th>\n",
       "      <th>arrival_date_year</th>\n",
       "      <th>arrival_date_month</th>\n",
       "      <th>arrival_date_week_number</th>\n",
       "      <th>arrival_date_day_of_month</th>\n",
       "      <th>stays_in_weekend_nights</th>\n",
       "      <th>stays_in_week_nights</th>\n",
       "      <th>adults</th>\n",
       "      <th>children</th>\n",
       "      <th>babies</th>\n",
       "      <th>meal</th>\n",
       "      <th>country</th>\n",
       "      <th>market_segment</th>\n",
       "      <th>distribution_channel</th>\n",
       "      <th>is_repeated_guest</th>\n",
       "      <th>previous_cancellations</th>\n",
       "      <th>previous_bookings_not_canceled</th>\n",
       "      <th>reserved_room_type</th>\n",
       "      <th>assigned_room_type</th>\n",
       "      <th>booking_changes</th>\n",
       "      <th>deposit_type</th>\n",
       "      <th>agent</th>\n",
       "      <th>company</th>\n",
       "      <th>days_in_waiting_list</th>\n",
       "      <th>customer_type</th>\n",
       "      <th>adr</th>\n",
       "      <th>required_car_parking_spaces</th>\n",
       "      <th>total_of_special_requests</th>\n",
       "      <th>reservation_status</th>\n",
       "      <th>reservation_status_date</th>\n",
       "      <th>kids</th>\n",
       "    </tr>\n",
       "  </thead>\n",
       "  <tbody>\n",
       "    <tr>\n",
       "      <th>7316</th>\n",
       "      <td>Resort Hotel</td>\n",
       "      <td>1</td>\n",
       "      <td>55</td>\n",
       "      <td>2016.0</td>\n",
       "      <td>August</td>\n",
       "      <td>32</td>\n",
       "      <td>2</td>\n",
       "      <td>0</td>\n",
       "      <td>4</td>\n",
       "      <td>2</td>\n",
       "      <td>0.0</td>\n",
       "      <td>0</td>\n",
       "      <td>BB</td>\n",
       "      <td>TUR</td>\n",
       "      <td>Online TA</td>\n",
       "      <td>TA/TO</td>\n",
       "      <td>0</td>\n",
       "      <td>0</td>\n",
       "      <td>0</td>\n",
       "      <td>A</td>\n",
       "      <td>A</td>\n",
       "      <td>0</td>\n",
       "      <td>No Deposit</td>\n",
       "      <td>240.0</td>\n",
       "      <td>NaN</td>\n",
       "      <td>0.0</td>\n",
       "      <td>Transient</td>\n",
       "      <td>189.00</td>\n",
       "      <td>0.0</td>\n",
       "      <td>1.0</td>\n",
       "      <td>Canceled</td>\n",
       "      <td>2016-06-14</td>\n",
       "      <td>NaN</td>\n",
       "    </tr>\n",
       "    <tr>\n",
       "      <th>11119</th>\n",
       "      <td>Resort Hotel</td>\n",
       "      <td>1</td>\n",
       "      <td>2</td>\n",
       "      <td>2017.0</td>\n",
       "      <td>April</td>\n",
       "      <td>16</td>\n",
       "      <td>21</td>\n",
       "      <td>1</td>\n",
       "      <td>2</td>\n",
       "      <td>2</td>\n",
       "      <td>2.0</td>\n",
       "      <td>0</td>\n",
       "      <td>BB</td>\n",
       "      <td>PRT</td>\n",
       "      <td>Online TA</td>\n",
       "      <td>TA/TO</td>\n",
       "      <td>0</td>\n",
       "      <td>0</td>\n",
       "      <td>0</td>\n",
       "      <td>G</td>\n",
       "      <td>G</td>\n",
       "      <td>0</td>\n",
       "      <td>No Deposit</td>\n",
       "      <td>240.0</td>\n",
       "      <td>NaN</td>\n",
       "      <td>0.0</td>\n",
       "      <td>Transient</td>\n",
       "      <td>185.33</td>\n",
       "      <td>0.0</td>\n",
       "      <td>0.0</td>\n",
       "      <td>Canceled</td>\n",
       "      <td>2017-04-19</td>\n",
       "      <td>NaN</td>\n",
       "    </tr>\n",
       "    <tr>\n",
       "      <th>25419</th>\n",
       "      <td>Resort Hotel</td>\n",
       "      <td>0</td>\n",
       "      <td>181</td>\n",
       "      <td>2016.0</td>\n",
       "      <td>June</td>\n",
       "      <td>25</td>\n",
       "      <td>17</td>\n",
       "      <td>3</td>\n",
       "      <td>7</td>\n",
       "      <td>2</td>\n",
       "      <td>0.0</td>\n",
       "      <td>0</td>\n",
       "      <td>BB</td>\n",
       "      <td>BEL</td>\n",
       "      <td>Offline TA/TO</td>\n",
       "      <td>TA/TO</td>\n",
       "      <td>0</td>\n",
       "      <td>0</td>\n",
       "      <td>0</td>\n",
       "      <td>D</td>\n",
       "      <td>D</td>\n",
       "      <td>0</td>\n",
       "      <td>No Deposit</td>\n",
       "      <td>128.0</td>\n",
       "      <td>NaN</td>\n",
       "      <td>0.0</td>\n",
       "      <td>Transient</td>\n",
       "      <td>66.60</td>\n",
       "      <td>0.0</td>\n",
       "      <td>0.0</td>\n",
       "      <td>Check-Out</td>\n",
       "      <td>2016-06-27</td>\n",
       "      <td>NaN</td>\n",
       "    </tr>\n",
       "    <tr>\n",
       "      <th>33491</th>\n",
       "      <td>Resort Hotel</td>\n",
       "      <td>0</td>\n",
       "      <td>22</td>\n",
       "      <td>2017.0</td>\n",
       "      <td>February</td>\n",
       "      <td>8</td>\n",
       "      <td>23</td>\n",
       "      <td>0</td>\n",
       "      <td>2</td>\n",
       "      <td>2</td>\n",
       "      <td>0.0</td>\n",
       "      <td>0</td>\n",
       "      <td>Undefined</td>\n",
       "      <td>ESP</td>\n",
       "      <td>Groups</td>\n",
       "      <td>TA/TO</td>\n",
       "      <td>0</td>\n",
       "      <td>0</td>\n",
       "      <td>0</td>\n",
       "      <td>A</td>\n",
       "      <td>C</td>\n",
       "      <td>0</td>\n",
       "      <td>No Deposit</td>\n",
       "      <td>68.0</td>\n",
       "      <td>NaN</td>\n",
       "      <td>0.0</td>\n",
       "      <td>Transient-Party</td>\n",
       "      <td>60.00</td>\n",
       "      <td>0.0</td>\n",
       "      <td>0.0</td>\n",
       "      <td>Check-Out</td>\n",
       "      <td>2017-02-25</td>\n",
       "      <td>NaN</td>\n",
       "    </tr>\n",
       "    <tr>\n",
       "      <th>374</th>\n",
       "      <td>Resort Hotel</td>\n",
       "      <td>1</td>\n",
       "      <td>81</td>\n",
       "      <td>2015.0</td>\n",
       "      <td>July</td>\n",
       "      <td>29</td>\n",
       "      <td>13</td>\n",
       "      <td>1</td>\n",
       "      <td>5</td>\n",
       "      <td>2</td>\n",
       "      <td>0.0</td>\n",
       "      <td>0</td>\n",
       "      <td>BB</td>\n",
       "      <td>PRT</td>\n",
       "      <td>Online TA</td>\n",
       "      <td>TA/TO</td>\n",
       "      <td>0</td>\n",
       "      <td>0</td>\n",
       "      <td>0</td>\n",
       "      <td>A</td>\n",
       "      <td>A</td>\n",
       "      <td>0</td>\n",
       "      <td>No Deposit</td>\n",
       "      <td>240.0</td>\n",
       "      <td>NaN</td>\n",
       "      <td>0.0</td>\n",
       "      <td>Transient</td>\n",
       "      <td>98.50</td>\n",
       "      <td>0.0</td>\n",
       "      <td>2.0</td>\n",
       "      <td>Canceled</td>\n",
       "      <td>2015-04-24</td>\n",
       "      <td>NaN</td>\n",
       "    </tr>\n",
       "  </tbody>\n",
       "</table>\n",
       "</div>"
      ],
      "text/plain": [
       "              hotel  is_canceled  lead_time  arrival_date_year  \\\n",
       "7316   Resort Hotel            1         55             2016.0   \n",
       "11119  Resort Hotel            1          2             2017.0   \n",
       "25419  Resort Hotel            0        181             2016.0   \n",
       "33491  Resort Hotel            0         22             2017.0   \n",
       "374    Resort Hotel            1         81             2015.0   \n",
       "\n",
       "      arrival_date_month  arrival_date_week_number  arrival_date_day_of_month  \\\n",
       "7316              August                        32                          2   \n",
       "11119              April                        16                         21   \n",
       "25419               June                        25                         17   \n",
       "33491           February                         8                         23   \n",
       "374                 July                        29                         13   \n",
       "\n",
       "       stays_in_weekend_nights  stays_in_week_nights  adults  children  \\\n",
       "7316                         0                     4       2       0.0   \n",
       "11119                        1                     2       2       2.0   \n",
       "25419                        3                     7       2       0.0   \n",
       "33491                        0                     2       2       0.0   \n",
       "374                          1                     5       2       0.0   \n",
       "\n",
       "       babies       meal country market_segment distribution_channel  \\\n",
       "7316        0         BB     TUR      Online TA                TA/TO   \n",
       "11119       0         BB     PRT      Online TA                TA/TO   \n",
       "25419       0         BB     BEL  Offline TA/TO                TA/TO   \n",
       "33491       0  Undefined     ESP         Groups                TA/TO   \n",
       "374         0         BB     PRT      Online TA                TA/TO   \n",
       "\n",
       "       is_repeated_guest  previous_cancellations  \\\n",
       "7316                   0                       0   \n",
       "11119                  0                       0   \n",
       "25419                  0                       0   \n",
       "33491                  0                       0   \n",
       "374                    0                       0   \n",
       "\n",
       "       previous_bookings_not_canceled reserved_room_type assigned_room_type  \\\n",
       "7316                                0                  A                  A   \n",
       "11119                               0                  G                  G   \n",
       "25419                               0                  D                  D   \n",
       "33491                               0                  A                  C   \n",
       "374                                 0                  A                  A   \n",
       "\n",
       "       booking_changes deposit_type  agent company  days_in_waiting_list  \\\n",
       "7316                 0   No Deposit  240.0     NaN                   0.0   \n",
       "11119                0   No Deposit  240.0     NaN                   0.0   \n",
       "25419                0   No Deposit  128.0     NaN                   0.0   \n",
       "33491                0   No Deposit   68.0     NaN                   0.0   \n",
       "374                  0   No Deposit  240.0     NaN                   0.0   \n",
       "\n",
       "         customer_type     adr  required_car_parking_spaces  \\\n",
       "7316         Transient  189.00                          0.0   \n",
       "11119        Transient  185.33                          0.0   \n",
       "25419        Transient   66.60                          0.0   \n",
       "33491  Transient-Party   60.00                          0.0   \n",
       "374          Transient   98.50                          0.0   \n",
       "\n",
       "       total_of_special_requests reservation_status reservation_status_date  \\\n",
       "7316                         1.0           Canceled              2016-06-14   \n",
       "11119                        0.0           Canceled              2017-04-19   \n",
       "25419                        0.0          Check-Out              2016-06-27   \n",
       "33491                        0.0          Check-Out              2017-02-25   \n",
       "374                          2.0           Canceled              2015-04-24   \n",
       "\n",
       "       kids  \n",
       "7316    NaN  \n",
       "11119   NaN  \n",
       "25419   NaN  \n",
       "33491   NaN  \n",
       "374     NaN  "
      ]
     },
     "execution_count": 6,
     "metadata": {},
     "output_type": "execute_result"
    }
   ],
   "source": [
    "df.sample(5)"
   ]
  },
  {
   "cell_type": "markdown",
   "id": "700a66e982a36ded",
   "metadata": {},
   "source": [
    "### 2. Cleaning of values column by column"
   ]
  },
  {
   "cell_type": "code",
   "execution_count": 7,
   "id": "63a82292f8b89b75",
   "metadata": {
    "ExecuteTime": {
     "end_time": "2025-09-20T04:20:28.341826Z",
     "start_time": "2025-09-20T04:20:28.337443Z"
    }
   },
   "outputs": [
    {
     "name": "stdout",
     "output_type": "stream",
     "text": [
      "['hotel', 'is_canceled', 'lead_time', 'arrival_date_year', 'arrival_date_month', 'arrival_date_week_number', 'arrival_date_day_of_month', 'stays_in_weekend_nights', 'stays_in_week_nights', 'adults', 'children', 'babies', 'meal', 'country', 'market_segment', 'distribution_channel', 'is_repeated_guest', 'previous_cancellations', 'previous_bookings_not_canceled', 'reserved_room_type', 'assigned_room_type', 'booking_changes', 'deposit_type', 'agent', 'company', 'days_in_waiting_list', 'customer_type', 'adr', 'required_car_parking_spaces', 'total_of_special_requests', 'reservation_status', 'reservation_status_date', 'kids']\n"
     ]
    }
   ],
   "source": [
    "columns_to_clean = list(df.columns)\n",
    "print(columns_to_clean)"
   ]
  },
  {
   "cell_type": "code",
   "execution_count": 7,
   "id": "b28eba1c214ff1b1",
   "metadata": {
    "ExecuteTime": {
     "end_time": "2025-09-20T04:20:28.740209Z",
     "start_time": "2025-09-20T04:20:28.721688Z"
    }
   },
   "outputs": [],
   "source": [
    "assert set(df[\"hotel\"].unique()) == set(['Resort Hotel', 'City Hotel'])\n",
    "columns_to_clean.remove(\"hotel\")\n",
    "\n",
    "assert set(df[\"is_canceled\"].unique()) == set([0, 1])\n",
    "columns_to_clean.remove(\"is_canceled\")\n",
    "\n",
    "assert np.max(df[\"lead_time\"].unique()) < 1000\n",
    "columns_to_clean.remove(\"lead_time\")"
   ]
  },
  {
   "cell_type": "code",
   "execution_count": 8,
   "id": "cc3e5df4207804d2",
   "metadata": {
    "ExecuteTime": {
     "end_time": "2025-09-20T04:20:29.008126Z",
     "start_time": "2025-09-20T04:20:28.998059Z"
    }
   },
   "outputs": [
    {
     "data": {
      "text/plain": [
       "arrival_date_year\n",
       "2016.0     30105\n",
       "2015.0     14537\n",
       "2017.0     13051\n",
       "20016.0      614\n",
       "NaN          588\n",
       "Name: count, dtype: int64"
      ]
     },
     "execution_count": 8,
     "metadata": {},
     "output_type": "execute_result"
    }
   ],
   "source": [
    "df[\"arrival_date_year\"].value_counts(dropna=False)"
   ]
  },
  {
   "cell_type": "code",
   "execution_count": 9,
   "id": "85a1edfd33787e0d",
   "metadata": {
    "ExecuteTime": {
     "end_time": "2025-09-20T04:20:29.352313Z",
     "start_time": "2025-09-20T04:20:29.327174Z"
    }
   },
   "outputs": [],
   "source": [
    "df = df.dropna(subset=[\"arrival_date_year\"])\n",
    "df[\"arrival_date_year\"] = df[\"arrival_date_year\"].astype(int)\n",
    "df[\"arrival_date_year\"] = df[\"arrival_date_year\"].replace(20016, 2016)"
   ]
  },
  {
   "cell_type": "code",
   "execution_count": 10,
   "id": "393e4fa443e7d523",
   "metadata": {
    "ExecuteTime": {
     "end_time": "2025-09-20T04:20:29.520968Z",
     "start_time": "2025-09-20T04:20:29.512744Z"
    }
   },
   "outputs": [
    {
     "data": {
      "text/plain": [
       "arrival_date_year\n",
       "2016    30719\n",
       "2015    14537\n",
       "2017    13051\n",
       "Name: count, dtype: int64"
      ]
     },
     "execution_count": 10,
     "metadata": {},
     "output_type": "execute_result"
    }
   ],
   "source": [
    "df[\"arrival_date_year\"].value_counts(dropna=False)"
   ]
  },
  {
   "cell_type": "code",
   "execution_count": 11,
   "id": "63ceef9e6fd71d1f",
   "metadata": {
    "ExecuteTime": {
     "end_time": "2025-09-20T04:20:29.727563Z",
     "start_time": "2025-09-20T04:20:29.712377Z"
    }
   },
   "outputs": [],
   "source": [
    "assert set(df[\"arrival_date_year\"].unique()) == set([2015, 2016, 2017])\n",
    "columns_to_clean.remove(\"arrival_date_year\")\n",
    "\n",
    "assert len(df[\"arrival_date_month\"].unique()) <= 12\n",
    "columns_to_clean.remove(\"arrival_date_month\")\n",
    "\n",
    "for week_number in df[\"arrival_date_week_number\"].unique():\n",
    "    assert week_number in range(54)\n",
    "columns_to_clean.remove(\"arrival_date_week_number\")\n",
    "\n",
    "for week_number in df[\"arrival_date_day_of_month\"].unique():\n",
    "    assert week_number in range(32)\n",
    "columns_to_clean.remove(\"arrival_date_day_of_month\")\n",
    "\n",
    "assert np.min(df[\"stays_in_weekend_nights\"].unique()) >= 0\n",
    "columns_to_clean.remove(\"stays_in_weekend_nights\")\n",
    "\n",
    "assert np.min(df[\"stays_in_week_nights\"].unique()) >= 0\n",
    "columns_to_clean.remove(\"stays_in_week_nights\")"
   ]
  },
  {
   "cell_type": "code",
   "execution_count": 12,
   "id": "d251f4398dd529ad",
   "metadata": {
    "ExecuteTime": {
     "end_time": "2025-09-20T04:20:29.940378Z",
     "start_time": "2025-09-20T04:20:29.932272Z"
    }
   },
   "outputs": [
    {
     "data": {
      "text/plain": [
       "adults\n",
       " 2      45258\n",
       " 1      10505\n",
       " 3       2201\n",
       " 0        102\n",
       "-1         97\n",
       " 4         34\n",
       " 66         6\n",
       " 26         5\n",
       " 65         5\n",
       " 53         4\n",
       " 69         4\n",
       " 59         4\n",
       " 54         4\n",
       " 91         4\n",
       " 84         3\n",
       " 95         3\n",
       " 100        3\n",
       " 72         3\n",
       " 76         3\n",
       " 50         3\n",
       " 20         2\n",
       " 27         2\n",
       " 60         2\n",
       " 86         2\n",
       " 98         2\n",
       " 68         2\n",
       " 51         2\n",
       " 5          2\n",
       " 55         2\n",
       " 78         2\n",
       " 83         2\n",
       " 64         2\n",
       " 56         2\n",
       " 73         2\n",
       " 80         2\n",
       " 92         2\n",
       " 96         2\n",
       " 57         2\n",
       " 62         2\n",
       " 79         2\n",
       " 67         2\n",
       " 52         2\n",
       " 6          1\n",
       " 10         1\n",
       " 40         1\n",
       " 89         1\n",
       " 58         1\n",
       " 93         1\n",
       " 63         1\n",
       " 61         1\n",
       " 87         1\n",
       " 85         1\n",
       " 77         1\n",
       " 75         1\n",
       "Name: count, dtype: int64"
      ]
     },
     "execution_count": 12,
     "metadata": {},
     "output_type": "execute_result"
    }
   ],
   "source": [
    "df[\"adults\"].value_counts(dropna=False)"
   ]
  },
  {
   "cell_type": "code",
   "execution_count": 13,
   "id": "80cdecf7a2f207f9",
   "metadata": {
    "ExecuteTime": {
     "end_time": "2025-09-20T04:20:30.107239Z",
     "start_time": "2025-09-20T04:20:30.084372Z"
    }
   },
   "outputs": [],
   "source": [
    "df = df[df[\"adults\"] != -1]\n",
    "\n",
    "assert np.min(df[\"adults\"].unique()) >= 0\n",
    "columns_to_clean.remove(\"adults\")"
   ]
  },
  {
   "cell_type": "code",
   "execution_count": 14,
   "id": "b6d25d2162d1158a",
   "metadata": {
    "ExecuteTime": {
     "end_time": "2025-09-20T04:20:30.234694Z",
     "start_time": "2025-09-20T04:20:30.227969Z"
    }
   },
   "outputs": [
    {
     "data": {
      "text/plain": [
       "children\n",
       "0.0     53786\n",
       "1.0      2307\n",
       "2.0      2086\n",
       "3.0        26\n",
       "NaN         4\n",
       "10.0        1\n",
       "Name: count, dtype: int64"
      ]
     },
     "execution_count": 14,
     "metadata": {},
     "output_type": "execute_result"
    }
   ],
   "source": [
    "df[\"children\"].value_counts(dropna=False)"
   ]
  },
  {
   "cell_type": "code",
   "execution_count": 15,
   "id": "49b3221f01f6b9de",
   "metadata": {
    "ExecuteTime": {
     "end_time": "2025-09-20T04:20:30.393632Z",
     "start_time": "2025-09-20T04:20:30.368312Z"
    }
   },
   "outputs": [
    {
     "data": {
      "text/plain": [
       "children\n",
       "0     53786\n",
       "1      2307\n",
       "2      2086\n",
       "3        26\n",
       "10        1\n",
       "Name: count, dtype: int64"
      ]
     },
     "execution_count": 15,
     "metadata": {},
     "output_type": "execute_result"
    }
   ],
   "source": [
    "df = df.dropna(subset=[\"children\"])\n",
    "df[\"children\"] = df[\"children\"].astype(int)\n",
    "\n",
    "assert np.min(df[\"children\"].unique()) >= 0\n",
    "columns_to_clean.remove(\"children\")\n",
    "\n",
    "df[\"children\"].value_counts(dropna=False)"
   ]
  },
  {
   "cell_type": "code",
   "execution_count": 16,
   "id": "da862f7e842e071f",
   "metadata": {
    "ExecuteTime": {
     "end_time": "2025-09-20T04:20:30.547829Z",
     "start_time": "2025-09-20T04:20:30.540136Z"
    }
   },
   "outputs": [
    {
     "data": {
      "text/plain": [
       "babies\n",
       " 0      57411\n",
       " 1        593\n",
       "-1         90\n",
       " 2          8\n",
       " 51         6\n",
       " 57         5\n",
       " 73         5\n",
       " 77         5\n",
       " 94         4\n",
       " 97         4\n",
       " 81         4\n",
       " 56         4\n",
       " 65         4\n",
       " 61         3\n",
       " 67         3\n",
       " 70         3\n",
       " 92         3\n",
       " 66         3\n",
       " 93         3\n",
       " 59         3\n",
       " 72         2\n",
       " 82         2\n",
       " 58         2\n",
       " 75         2\n",
       " 55         2\n",
       " 52         2\n",
       " 69         2\n",
       " 53         2\n",
       " 96         2\n",
       " 71         2\n",
       " 98         2\n",
       " 100        2\n",
       " 63         2\n",
       " 78         2\n",
       " 99         2\n",
       " 54         1\n",
       " 89         1\n",
       " 62         1\n",
       " 95         1\n",
       " 74         1\n",
       " 60         1\n",
       " 84         1\n",
       " 10         1\n",
       " 91         1\n",
       " 50         1\n",
       " 83         1\n",
       " 88         1\n",
       "Name: count, dtype: int64"
      ]
     },
     "execution_count": 16,
     "metadata": {},
     "output_type": "execute_result"
    }
   ],
   "source": [
    "df[\"babies\"].value_counts(dropna=False)"
   ]
  },
  {
   "cell_type": "code",
   "execution_count": 17,
   "id": "a7a18c71c5aad86c",
   "metadata": {
    "ExecuteTime": {
     "end_time": "2025-09-20T04:20:30.737534Z",
     "start_time": "2025-09-20T04:20:30.713645Z"
    }
   },
   "outputs": [
    {
     "data": {
      "text/plain": [
       "babies\n",
       "0      57411\n",
       "1        593\n",
       "2          8\n",
       "51         6\n",
       "57         5\n",
       "73         5\n",
       "77         5\n",
       "94         4\n",
       "97         4\n",
       "81         4\n",
       "56         4\n",
       "65         4\n",
       "61         3\n",
       "67         3\n",
       "70         3\n",
       "92         3\n",
       "66         3\n",
       "93         3\n",
       "59         3\n",
       "72         2\n",
       "82         2\n",
       "58         2\n",
       "75         2\n",
       "55         2\n",
       "52         2\n",
       "69         2\n",
       "53         2\n",
       "96         2\n",
       "71         2\n",
       "98         2\n",
       "100        2\n",
       "63         2\n",
       "78         2\n",
       "99         2\n",
       "54         1\n",
       "89         1\n",
       "62         1\n",
       "95         1\n",
       "74         1\n",
       "60         1\n",
       "84         1\n",
       "10         1\n",
       "91         1\n",
       "50         1\n",
       "83         1\n",
       "88         1\n",
       "Name: count, dtype: int64"
      ]
     },
     "execution_count": 17,
     "metadata": {},
     "output_type": "execute_result"
    }
   ],
   "source": [
    "df = df[df[\"babies\"] != -1]\n",
    "\n",
    "assert np.min(df[\"babies\"].unique()) >= 0\n",
    "columns_to_clean.remove(\"babies\")\n",
    "\n",
    "df[\"babies\"].value_counts(dropna=False)"
   ]
  },
  {
   "cell_type": "code",
   "execution_count": 18,
   "id": "829d0ca177bdfb01",
   "metadata": {
    "ExecuteTime": {
     "end_time": "2025-09-20T04:20:30.948217Z",
     "start_time": "2025-09-20T04:20:30.918738Z"
    }
   },
   "outputs": [],
   "source": [
    "columns_to_clean.remove(\"meal\")\n",
    "\n",
    "df = df.dropna(subset=[\"country\"])\n",
    "columns_to_clean.remove(\"country\")\n",
    "\n",
    "columns_to_clean.remove(\"market_segment\")\n",
    "\n",
    "columns_to_clean.remove(\"distribution_channel\")\n",
    "\n",
    "assert set(df[\"is_repeated_guest\"].unique()) == set([0, 1])\n",
    "columns_to_clean.remove(\"is_repeated_guest\")\n",
    "\n",
    "assert np.min(df[\"previous_cancellations\"].unique()) >= 0\n",
    "columns_to_clean.remove(\"previous_cancellations\")\n",
    "\n",
    "assert np.min(df[\"previous_bookings_not_canceled\"].unique()) >= 0\n",
    "columns_to_clean.remove(\"previous_bookings_not_canceled\")\n",
    "\n",
    "columns_to_clean.remove(\"reserved_room_type\")\n",
    "\n",
    "columns_to_clean.remove(\"assigned_room_type\")\n",
    "\n",
    "columns_to_clean.remove(\"booking_changes\")"
   ]
  },
  {
   "cell_type": "code",
   "execution_count": 19,
   "id": "b744d752eba5c6e1",
   "metadata": {
    "ExecuteTime": {
     "end_time": "2025-09-20T04:20:31.143813Z",
     "start_time": "2025-09-20T04:20:31.133066Z"
    }
   },
   "outputs": [
    {
     "data": {
      "text/plain": [
       "deposit_type\n",
       "No Deposit    51190\n",
       "Non Refund     5375\n",
       "No Refund       943\n",
       "Refundable      141\n",
       "Name: count, dtype: int64"
      ]
     },
     "execution_count": 19,
     "metadata": {},
     "output_type": "execute_result"
    }
   ],
   "source": [
    "df[\"deposit_type\"].value_counts()"
   ]
  },
  {
   "cell_type": "code",
   "execution_count": 20,
   "id": "abff108478832149",
   "metadata": {
    "ExecuteTime": {
     "end_time": "2025-09-20T04:20:31.284589Z",
     "start_time": "2025-09-20T04:20:31.267639Z"
    }
   },
   "outputs": [
    {
     "data": {
      "text/plain": [
       "deposit_type\n",
       "No Deposit    51190\n",
       "Non Refund     6318\n",
       "Refundable      141\n",
       "Name: count, dtype: int64"
      ]
     },
     "execution_count": 20,
     "metadata": {},
     "output_type": "execute_result"
    }
   ],
   "source": [
    "df['deposit_type'] = df['deposit_type'].replace(\"No Refund\", \"Non Refund\")\n",
    "\n",
    "columns_to_clean.remove(\"deposit_type\")\n",
    "\n",
    "df[\"deposit_type\"].value_counts()"
   ]
  },
  {
   "cell_type": "code",
   "execution_count": 21,
   "id": "7a637ef97ab6d120",
   "metadata": {
    "ExecuteTime": {
     "end_time": "2025-09-20T04:20:31.425605Z",
     "start_time": "2025-09-20T04:20:31.415480Z"
    }
   },
   "outputs": [
    {
     "data": {
      "text/plain": [
       "agent\n",
       "240.0    13682\n",
       "NaN       8696\n",
       "9.0       6910\n",
       "1.0       3139\n",
       "250.0     2819\n",
       "         ...  \n",
       "179.0        1\n",
       "93.0         1\n",
       "210.0        1\n",
       "215.0        1\n",
       "77.0         1\n",
       "Name: count, Length: 249, dtype: int64"
      ]
     },
     "execution_count": 21,
     "metadata": {},
     "output_type": "execute_result"
    }
   ],
   "source": [
    "df[\"agent\"].value_counts(dropna=False)"
   ]
  },
  {
   "cell_type": "code",
   "execution_count": 22,
   "id": "56168ea23b79e444",
   "metadata": {
    "ExecuteTime": {
     "end_time": "2025-09-20T04:20:31.604506Z",
     "start_time": "2025-09-20T04:20:31.595141Z"
    }
   },
   "outputs": [
    {
     "data": {
      "text/plain": [
       "agent\n",
       "240    13682\n",
       "0       8696\n",
       "9       6910\n",
       "1       3139\n",
       "250     2819\n",
       "       ...  \n",
       "179        1\n",
       "93         1\n",
       "210        1\n",
       "215        1\n",
       "77         1\n",
       "Name: count, Length: 249, dtype: int64"
      ]
     },
     "execution_count": 22,
     "metadata": {},
     "output_type": "execute_result"
    }
   ],
   "source": [
    "df[\"agent\"] = df[\"agent\"].fillna(0)\n",
    "df[\"agent\"] = df[\"agent\"].astype(int)\n",
    "\n",
    "assert np.min(df[\"agent\"].unique()) >= 0\n",
    "columns_to_clean.remove(\"agent\")\n",
    "\n",
    "df[\"agent\"].value_counts(dropna=False)"
   ]
  },
  {
   "cell_type": "code",
   "execution_count": 23,
   "id": "88dfb1cc2793c34a",
   "metadata": {
    "ExecuteTime": {
     "end_time": "2025-09-20T04:20:31.840270Z",
     "start_time": "2025-09-20T04:20:31.829922Z"
    }
   },
   "outputs": [
    {
     "data": {
      "text/plain": [
       "company\n",
       "NaN      54379\n",
       "223.0      770\n",
       "281.0      136\n",
       "154.0      123\n",
       "405.0      100\n",
       "         ...  \n",
       "309          1\n",
       "331          1\n",
       "93           1\n",
       "316          1\n",
       "NU           1\n",
       "Name: count, Length: 273, dtype: int64"
      ]
     },
     "execution_count": 23,
     "metadata": {},
     "output_type": "execute_result"
    }
   ],
   "source": [
    "df[\"company\"].value_counts(dropna=False)"
   ]
  },
  {
   "cell_type": "code",
   "execution_count": 24,
   "id": "8fdd7a15e7c4ceef",
   "metadata": {
    "ExecuteTime": {
     "end_time": "2025-09-20T04:20:32.094526Z",
     "start_time": "2025-09-20T04:20:32.048754Z"
    }
   },
   "outputs": [
    {
     "data": {
      "text/plain": [
       "company\n",
       "0      54379\n",
       "223      770\n",
       "281      136\n",
       "154      123\n",
       "405      100\n",
       "       ...  \n",
       "126        1\n",
       "64         1\n",
       "242        1\n",
       "93         1\n",
       "316        1\n",
       "Name: count, Length: 258, dtype: int64"
      ]
     },
     "execution_count": 24,
     "metadata": {},
     "output_type": "execute_result"
    }
   ],
   "source": [
    "df = df[df[\"company\"] != 'NU']\n",
    "df[\"company\"] = df[\"company\"].fillna('0.0')\n",
    "df[\"company\"] = df[\"company\"].astype(float)\n",
    "df[\"company\"] = df[\"company\"].astype(int)\n",
    "\n",
    "assert np.min(df[\"company\"].unique()) >= 0\n",
    "columns_to_clean.remove(\"company\")\n",
    "\n",
    "df[\"company\"].value_counts(dropna=False)"
   ]
  },
  {
   "cell_type": "code",
   "execution_count": 25,
   "id": "83af06f439e6f235",
   "metadata": {
    "ExecuteTime": {
     "end_time": "2025-09-20T04:20:32.297647Z",
     "start_time": "2025-09-20T04:20:32.284125Z"
    }
   },
   "outputs": [
    {
     "data": {
      "text/plain": [
       "days_in_waiting_list\n",
       "0.0      55290\n",
       "39.0       184\n",
       "58.0       162\n",
       "31.0        99\n",
       "69.0        89\n",
       "87.0        78\n",
       "63.0        76\n",
       "111.0       69\n",
       "101.0       65\n",
       "77.0        62\n",
       "223.0       60\n",
       "3.0         59\n",
       "62.0        58\n",
       "50.0        57\n",
       "122.0       54\n",
       "91.0        49\n",
       "176.0       48\n",
       "187.0       45\n",
       "48.0        43\n",
       "75.0        40\n",
       "93.0        39\n",
       "60.0        39\n",
       "35.0        38\n",
       "236.0       35\n",
       "65.0        33\n",
       "68.0        29\n",
       "98.0        28\n",
       "33.0        28\n",
       "41.0        28\n",
       "160.0       25\n",
       "20.0        25\n",
       "57.0        24\n",
       "120.0       23\n",
       "47.0        23\n",
       "80.0        22\n",
       "21.0        21\n",
       "96.0        21\n",
       "108.0       20\n",
       "215.0       20\n",
       "79.0        20\n",
       "24.0        19\n",
       "70.0        18\n",
       "38.0        18\n",
       "99.0        17\n",
       "162.0       17\n",
       "32.0        17\n",
       "125.0       16\n",
       "207.0       15\n",
       "330.0       15\n",
       "379.0       15\n",
       "174.0       15\n",
       "85.0        15\n",
       "391.0       14\n",
       "49.0        13\n",
       "40.0        11\n",
       "150.0       11\n",
       "55.0        10\n",
       "34.0        10\n",
       "4.0         10\n",
       "224.0       10\n",
       "259.0       10\n",
       "147.0        9\n",
       "59.0         8\n",
       "56.0         8\n",
       "14.0         7\n",
       "71.0         7\n",
       "15.0         7\n",
       "1.0          6\n",
       "8.0          6\n",
       "113.0        5\n",
       "107.0        5\n",
       "53.0         5\n",
       "178.0        5\n",
       "6.0          4\n",
       "5.0          4\n",
       "97.0         3\n",
       "61.0         3\n",
       "64.0         3\n",
       "2.0          2\n",
       "121.0        2\n",
       "43.0         2\n",
       "100.0        2\n",
       "22.0         2\n",
       "154.0        2\n",
       "185.0        2\n",
       "13.0         2\n",
       "44.0         1\n",
       "52.0         1\n",
       "11.0         1\n",
       "142.0        1\n",
       "116.0        1\n",
       "18.0         1\n",
       "83.0         1\n",
       "109.0        1\n",
       "105.0        1\n",
       "89.0         1\n",
       "37.0         1\n",
       "30.0         1\n",
       "27.0         1\n",
       "Name: count, dtype: int64"
      ]
     },
     "execution_count": 25,
     "metadata": {},
     "output_type": "execute_result"
    }
   ],
   "source": [
    "df[\"days_in_waiting_list\"].value_counts(dropna=False)"
   ]
  },
  {
   "cell_type": "code",
   "execution_count": 26,
   "id": "4ea60dbc39734325",
   "metadata": {
    "ExecuteTime": {
     "end_time": "2025-09-20T04:20:32.527591Z",
     "start_time": "2025-09-20T04:20:32.493364Z"
    }
   },
   "outputs": [
    {
     "data": {
      "text/plain": [
       "days_in_waiting_list\n",
       "0      55290\n",
       "39       184\n",
       "58       162\n",
       "31        99\n",
       "69        89\n",
       "87        78\n",
       "63        76\n",
       "111       69\n",
       "101       65\n",
       "77        62\n",
       "223       60\n",
       "3         59\n",
       "62        58\n",
       "50        57\n",
       "122       54\n",
       "91        49\n",
       "176       48\n",
       "187       45\n",
       "48        43\n",
       "75        40\n",
       "93        39\n",
       "60        39\n",
       "35        38\n",
       "236       35\n",
       "65        33\n",
       "68        29\n",
       "98        28\n",
       "33        28\n",
       "41        28\n",
       "160       25\n",
       "20        25\n",
       "57        24\n",
       "120       23\n",
       "47        23\n",
       "80        22\n",
       "21        21\n",
       "96        21\n",
       "108       20\n",
       "215       20\n",
       "79        20\n",
       "24        19\n",
       "70        18\n",
       "38        18\n",
       "99        17\n",
       "162       17\n",
       "32        17\n",
       "125       16\n",
       "207       15\n",
       "330       15\n",
       "379       15\n",
       "174       15\n",
       "85        15\n",
       "391       14\n",
       "49        13\n",
       "40        11\n",
       "150       11\n",
       "55        10\n",
       "34        10\n",
       "4         10\n",
       "224       10\n",
       "259       10\n",
       "147        9\n",
       "59         8\n",
       "56         8\n",
       "14         7\n",
       "71         7\n",
       "15         7\n",
       "1          6\n",
       "8          6\n",
       "113        5\n",
       "107        5\n",
       "53         5\n",
       "178        5\n",
       "6          4\n",
       "5          4\n",
       "97         3\n",
       "61         3\n",
       "64         3\n",
       "2          2\n",
       "121        2\n",
       "43         2\n",
       "100        2\n",
       "22         2\n",
       "154        2\n",
       "185        2\n",
       "13         2\n",
       "44         1\n",
       "52         1\n",
       "11         1\n",
       "142        1\n",
       "116        1\n",
       "18         1\n",
       "83         1\n",
       "109        1\n",
       "105        1\n",
       "89         1\n",
       "37         1\n",
       "30         1\n",
       "27         1\n",
       "Name: count, dtype: int64"
      ]
     },
     "execution_count": 26,
     "metadata": {},
     "output_type": "execute_result"
    }
   ],
   "source": [
    "df = df.dropna(subset=[\"days_in_waiting_list\"])\n",
    "df[\"days_in_waiting_list\"] = df[\"days_in_waiting_list\"].astype(int)\n",
    "\n",
    "assert np.min(df[\"days_in_waiting_list\"].unique()) >= 0\n",
    "columns_to_clean.remove(\"days_in_waiting_list\")\n",
    "\n",
    "df[\"days_in_waiting_list\"].value_counts(dropna=False)"
   ]
  },
  {
   "cell_type": "code",
   "execution_count": 27,
   "id": "28fcfe5982493889",
   "metadata": {
    "ExecuteTime": {
     "end_time": "2025-09-20T04:20:32.750660Z",
     "start_time": "2025-09-20T04:20:32.741199Z"
    }
   },
   "outputs": [
    {
     "data": {
      "text/plain": [
       "customer_type\n",
       "Transient          41465\n",
       "Transient-Party    12847\n",
       "Contract            2459\n",
       "NaN                  575\n",
       "Group                302\n",
       "Name: count, dtype: int64"
      ]
     },
     "execution_count": 27,
     "metadata": {},
     "output_type": "execute_result"
    }
   ],
   "source": [
    "df[\"customer_type\"].value_counts(dropna=False)"
   ]
  },
  {
   "cell_type": "code",
   "execution_count": 28,
   "id": "47d0d0dffe8585a1",
   "metadata": {
    "ExecuteTime": {
     "end_time": "2025-09-20T04:20:32.948308Z",
     "start_time": "2025-09-20T04:20:32.916338Z"
    }
   },
   "outputs": [
    {
     "data": {
      "text/plain": [
       "customer_type\n",
       "Transient          41465\n",
       "Transient-Party    12847\n",
       "Contract            2459\n",
       "Group                302\n",
       "Name: count, dtype: int64"
      ]
     },
     "execution_count": 28,
     "metadata": {},
     "output_type": "execute_result"
    }
   ],
   "source": [
    "df = df.dropna(subset=[\"customer_type\"])\n",
    "\n",
    "columns_to_clean.remove(\"customer_type\")\n",
    "\n",
    "df[\"customer_type\"].value_counts(dropna=False)"
   ]
  },
  {
   "cell_type": "code",
   "execution_count": 29,
   "id": "88b1d83a44d8bc46",
   "metadata": {
    "ExecuteTime": {
     "end_time": "2025-09-20T04:20:33.165070Z",
     "start_time": "2025-09-20T04:20:33.152092Z"
    }
   },
   "outputs": [
    {
     "data": {
      "text/plain": [
       "adr\n",
       "62.00     1752\n",
       "75.00     1046\n",
       "48.00      996\n",
       "0.00       920\n",
       "65.00      896\n",
       "          ... \n",
       "136.89       1\n",
       "103.46       1\n",
       "159.17       1\n",
       "202.54       1\n",
       "148.31       1\n",
       "Name: count, Length: 6675, dtype: int64"
      ]
     },
     "execution_count": 29,
     "metadata": {},
     "output_type": "execute_result"
    }
   ],
   "source": [
    "df[\"adr\"].value_counts(dropna=False)"
   ]
  },
  {
   "cell_type": "code",
   "execution_count": 30,
   "id": "ccaacda49a6c43ca",
   "metadata": {
    "ExecuteTime": {
     "end_time": "2025-09-20T04:20:33.396916Z",
     "start_time": "2025-09-20T04:20:33.345812Z"
    }
   },
   "outputs": [
    {
     "data": {
      "text/plain": [
       "adr\n",
       "62.00     1752\n",
       "75.00     1046\n",
       "48.00      996\n",
       "0.00       920\n",
       "65.00      896\n",
       "          ... \n",
       "103.06       1\n",
       "211.86       1\n",
       "91.51        1\n",
       "132.45       1\n",
       "152.81       1\n",
       "Name: count, Length: 6673, dtype: int64"
      ]
     },
     "execution_count": 30,
     "metadata": {},
     "output_type": "execute_result"
    }
   ],
   "source": [
    "df = df[df[\"adr\"] != -6.38]\n",
    "df = df[df[\"adr\"] != 5400]\n",
    "\n",
    "assert np.min(df[\"adr\"].unique()) >= 0\n",
    "columns_to_clean.remove(\"adr\")\n",
    "\n",
    "df[\"adr\"].value_counts(dropna=False)"
   ]
  },
  {
   "cell_type": "code",
   "execution_count": 31,
   "id": "4422b9c953c1172a",
   "metadata": {
    "ExecuteTime": {
     "end_time": "2025-09-20T04:20:33.650884Z",
     "start_time": "2025-09-20T04:20:33.636243Z"
    }
   },
   "outputs": [
    {
     "data": {
      "text/plain": [
       "required_car_parking_spaces\n",
       "0.0    51124\n",
       "1.0     5349\n",
       "NaN      571\n",
       "2.0       24\n",
       "8.0        2\n",
       "3.0        1\n",
       "Name: count, dtype: int64"
      ]
     },
     "execution_count": 31,
     "metadata": {},
     "output_type": "execute_result"
    }
   ],
   "source": [
    "df[\"required_car_parking_spaces\"].value_counts(dropna=False)"
   ]
  },
  {
   "cell_type": "code",
   "execution_count": 32,
   "id": "33fe5da0e16c2afa",
   "metadata": {
    "ExecuteTime": {
     "end_time": "2025-09-20T04:20:33.833568Z",
     "start_time": "2025-09-20T04:20:33.822944Z"
    }
   },
   "outputs": [
    {
     "data": {
      "text/plain": [
       "required_car_parking_spaces\n",
       "0    51695\n",
       "1     5349\n",
       "2       24\n",
       "8        2\n",
       "3        1\n",
       "Name: count, dtype: int64"
      ]
     },
     "execution_count": 32,
     "metadata": {},
     "output_type": "execute_result"
    }
   ],
   "source": [
    "df[\"required_car_parking_spaces\"] = df[\"required_car_parking_spaces\"].fillna(0)\n",
    "df[\"required_car_parking_spaces\"] = df[\"required_car_parking_spaces\"].astype(int)\n",
    "\n",
    "assert np.min(df[\"required_car_parking_spaces\"].unique()) >= 0\n",
    "columns_to_clean.remove(\"required_car_parking_spaces\")\n",
    "\n",
    "df[\"required_car_parking_spaces\"].value_counts(dropna=False)\n"
   ]
  },
  {
   "cell_type": "code",
   "execution_count": 33,
   "id": "15fedbc09cfd51ff",
   "metadata": {
    "ExecuteTime": {
     "end_time": "2025-09-20T04:20:34.155458Z",
     "start_time": "2025-09-20T04:20:34.144206Z"
    }
   },
   "outputs": [
    {
     "data": {
      "text/plain": [
       "total_of_special_requests\n",
       "0    35970\n",
       "1    14282\n",
       "2     5633\n",
       "3     1032\n",
       "4      143\n",
       "5       11\n",
       "Name: count, dtype: int64"
      ]
     },
     "execution_count": 33,
     "metadata": {},
     "output_type": "execute_result"
    }
   ],
   "source": [
    "df[\"total_of_special_requests\"] = df[\"total_of_special_requests\"].astype(int)\n",
    "\n",
    "assert np.min(df[\"total_of_special_requests\"].unique()) >= 0\n",
    "columns_to_clean.remove(\"total_of_special_requests\")\n",
    "\n",
    "df[\"total_of_special_requests\"].value_counts(dropna=False)"
   ]
  },
  {
   "cell_type": "code",
   "execution_count": 34,
   "id": "c62a79b4f2389df6",
   "metadata": {
    "ExecuteTime": {
     "end_time": "2025-09-20T04:20:34.365671Z",
     "start_time": "2025-09-20T04:20:34.347734Z"
    }
   },
   "outputs": [
    {
     "data": {
      "text/plain": [
       "reservation_status\n",
       "Check-Out    33110\n",
       "Canceled     22614\n",
       "No-Show        777\n",
       "NaN            570\n",
       "Name: count, dtype: int64"
      ]
     },
     "execution_count": 34,
     "metadata": {},
     "output_type": "execute_result"
    }
   ],
   "source": [
    "df[\"reservation_status\"].value_counts(dropna=False)"
   ]
  },
  {
   "cell_type": "code",
   "execution_count": 35,
   "id": "9e0e9358275d9070",
   "metadata": {
    "ExecuteTime": {
     "end_time": "2025-09-20T04:20:34.629661Z",
     "start_time": "2025-09-20T04:20:34.594325Z"
    }
   },
   "outputs": [
    {
     "data": {
      "text/plain": [
       "reservation_status\n",
       "Check-Out    33110\n",
       "Canceled     22614\n",
       "No-Show        777\n",
       "Name: count, dtype: int64"
      ]
     },
     "execution_count": 35,
     "metadata": {},
     "output_type": "execute_result"
    }
   ],
   "source": [
    "df = df.dropna(subset=[\"reservation_status\"])\n",
    "\n",
    "columns_to_clean.remove(\"reservation_status\")\n",
    "\n",
    "df[\"reservation_status\"].value_counts(dropna=False)"
   ]
  },
  {
   "cell_type": "code",
   "execution_count": 36,
   "id": "2370166fbebffb91",
   "metadata": {
    "ExecuteTime": {
     "end_time": "2025-09-20T04:20:34.836490Z",
     "start_time": "2025-09-20T04:20:34.829850Z"
    }
   },
   "outputs": [],
   "source": [
    "columns_to_clean.remove(\"reservation_status_date\")"
   ]
  },
  {
   "cell_type": "code",
   "execution_count": 37,
   "id": "6a16dcbb24455bbf",
   "metadata": {
    "ExecuteTime": {
     "end_time": "2025-09-20T04:20:35.018804Z",
     "start_time": "2025-09-20T04:20:35.001224Z"
    }
   },
   "outputs": [],
   "source": [
    "df = df.drop(\"kids\", axis=1)\n",
    "columns_to_clean.remove(\"kids\")"
   ]
  },
  {
   "cell_type": "code",
   "execution_count": 38,
   "id": "8a0a6b913c52ad0e",
   "metadata": {
    "ExecuteTime": {
     "end_time": "2025-09-20T04:20:35.112945Z",
     "start_time": "2025-09-20T04:20:35.107465Z"
    }
   },
   "outputs": [
    {
     "data": {
      "text/plain": [
       "0"
      ]
     },
     "execution_count": 38,
     "metadata": {},
     "output_type": "execute_result"
    }
   ],
   "source": [
    "len(columns_to_clean)"
   ]
  },
  {
   "cell_type": "markdown",
   "id": "e9cc2ed89b272ca7",
   "metadata": {},
   "source": [
    "### 3. Display the result"
   ]
  },
  {
   "cell_type": "code",
   "execution_count": 39,
   "id": "2bf0d35f23b69169",
   "metadata": {
    "ExecuteTime": {
     "end_time": "2025-09-20T04:20:35.293350Z",
     "start_time": "2025-09-20T04:20:35.287538Z"
    }
   },
   "outputs": [
    {
     "data": {
      "text/plain": [
       "((58895, 33), (56501, 32))"
      ]
     },
     "execution_count": 39,
     "metadata": {},
     "output_type": "execute_result"
    }
   ],
   "source": [
    "raw_df.shape, df.shape"
   ]
  },
  {
   "cell_type": "code",
   "execution_count": 40,
   "id": "d1c47b5f7d33adb9",
   "metadata": {
    "ExecuteTime": {
     "end_time": "2025-09-20T04:20:35.489970Z",
     "start_time": "2025-09-20T04:20:35.468974Z"
    }
   },
   "outputs": [
    {
     "data": {
      "text/html": [
       "<div>\n",
       "<style scoped>\n",
       "    .dataframe tbody tr th:only-of-type {\n",
       "        vertical-align: middle;\n",
       "    }\n",
       "\n",
       "    .dataframe tbody tr th {\n",
       "        vertical-align: top;\n",
       "    }\n",
       "\n",
       "    .dataframe thead th {\n",
       "        text-align: right;\n",
       "    }\n",
       "</style>\n",
       "<table border=\"1\" class=\"dataframe\">\n",
       "  <thead>\n",
       "    <tr style=\"text-align: right;\">\n",
       "      <th></th>\n",
       "      <th>hotel</th>\n",
       "      <th>is_canceled</th>\n",
       "      <th>lead_time</th>\n",
       "      <th>arrival_date_year</th>\n",
       "      <th>arrival_date_month</th>\n",
       "      <th>arrival_date_week_number</th>\n",
       "      <th>arrival_date_day_of_month</th>\n",
       "      <th>stays_in_weekend_nights</th>\n",
       "      <th>stays_in_week_nights</th>\n",
       "      <th>adults</th>\n",
       "      <th>children</th>\n",
       "      <th>babies</th>\n",
       "      <th>meal</th>\n",
       "      <th>country</th>\n",
       "      <th>market_segment</th>\n",
       "      <th>distribution_channel</th>\n",
       "      <th>is_repeated_guest</th>\n",
       "      <th>previous_cancellations</th>\n",
       "      <th>previous_bookings_not_canceled</th>\n",
       "      <th>reserved_room_type</th>\n",
       "      <th>assigned_room_type</th>\n",
       "      <th>booking_changes</th>\n",
       "      <th>deposit_type</th>\n",
       "      <th>agent</th>\n",
       "      <th>company</th>\n",
       "      <th>days_in_waiting_list</th>\n",
       "      <th>customer_type</th>\n",
       "      <th>adr</th>\n",
       "      <th>required_car_parking_spaces</th>\n",
       "      <th>total_of_special_requests</th>\n",
       "      <th>reservation_status</th>\n",
       "      <th>reservation_status_date</th>\n",
       "      <th>kids</th>\n",
       "    </tr>\n",
       "  </thead>\n",
       "  <tbody>\n",
       "    <tr>\n",
       "      <th>0</th>\n",
       "      <td>Resort Hotel</td>\n",
       "      <td>0</td>\n",
       "      <td>342</td>\n",
       "      <td>2015.0</td>\n",
       "      <td>July</td>\n",
       "      <td>27</td>\n",
       "      <td>1</td>\n",
       "      <td>0</td>\n",
       "      <td>0</td>\n",
       "      <td>2</td>\n",
       "      <td>0.0</td>\n",
       "      <td>0</td>\n",
       "      <td>BB</td>\n",
       "      <td>PRT</td>\n",
       "      <td>Direct</td>\n",
       "      <td>Direct</td>\n",
       "      <td>0</td>\n",
       "      <td>0</td>\n",
       "      <td>0</td>\n",
       "      <td>C</td>\n",
       "      <td>C</td>\n",
       "      <td>3</td>\n",
       "      <td>No Deposit</td>\n",
       "      <td>NaN</td>\n",
       "      <td>NaN</td>\n",
       "      <td>0.0</td>\n",
       "      <td>Transient</td>\n",
       "      <td>0.0</td>\n",
       "      <td>0.0</td>\n",
       "      <td>0.0</td>\n",
       "      <td>Check-Out</td>\n",
       "      <td>2015-07-01</td>\n",
       "      <td>NaN</td>\n",
       "    </tr>\n",
       "    <tr>\n",
       "      <th>1</th>\n",
       "      <td>Resort Hotel</td>\n",
       "      <td>0</td>\n",
       "      <td>737</td>\n",
       "      <td>2015.0</td>\n",
       "      <td>July</td>\n",
       "      <td>27</td>\n",
       "      <td>1</td>\n",
       "      <td>0</td>\n",
       "      <td>0</td>\n",
       "      <td>2</td>\n",
       "      <td>0.0</td>\n",
       "      <td>0</td>\n",
       "      <td>BB</td>\n",
       "      <td>PRT</td>\n",
       "      <td>Direct</td>\n",
       "      <td>Direct</td>\n",
       "      <td>0</td>\n",
       "      <td>0</td>\n",
       "      <td>0</td>\n",
       "      <td>C</td>\n",
       "      <td>C</td>\n",
       "      <td>4</td>\n",
       "      <td>No Deposit</td>\n",
       "      <td>NaN</td>\n",
       "      <td>NaN</td>\n",
       "      <td>0.0</td>\n",
       "      <td>Transient</td>\n",
       "      <td>0.0</td>\n",
       "      <td>0.0</td>\n",
       "      <td>0.0</td>\n",
       "      <td>Check-Out</td>\n",
       "      <td>2015-07-01</td>\n",
       "      <td>NaN</td>\n",
       "    </tr>\n",
       "    <tr>\n",
       "      <th>2</th>\n",
       "      <td>Resort Hotel</td>\n",
       "      <td>0</td>\n",
       "      <td>7</td>\n",
       "      <td>2015.0</td>\n",
       "      <td>July</td>\n",
       "      <td>27</td>\n",
       "      <td>1</td>\n",
       "      <td>0</td>\n",
       "      <td>1</td>\n",
       "      <td>1</td>\n",
       "      <td>0.0</td>\n",
       "      <td>0</td>\n",
       "      <td>BB</td>\n",
       "      <td>GBR</td>\n",
       "      <td>Direct</td>\n",
       "      <td>Direct</td>\n",
       "      <td>0</td>\n",
       "      <td>0</td>\n",
       "      <td>0</td>\n",
       "      <td>A</td>\n",
       "      <td>C</td>\n",
       "      <td>0</td>\n",
       "      <td>No Deposit</td>\n",
       "      <td>NaN</td>\n",
       "      <td>NaN</td>\n",
       "      <td>0.0</td>\n",
       "      <td>Transient</td>\n",
       "      <td>75.0</td>\n",
       "      <td>0.0</td>\n",
       "      <td>0.0</td>\n",
       "      <td>Check-Out</td>\n",
       "      <td>2015-07-02</td>\n",
       "      <td>NaN</td>\n",
       "    </tr>\n",
       "    <tr>\n",
       "      <th>3</th>\n",
       "      <td>Resort Hotel</td>\n",
       "      <td>0</td>\n",
       "      <td>13</td>\n",
       "      <td>2015.0</td>\n",
       "      <td>July</td>\n",
       "      <td>27</td>\n",
       "      <td>1</td>\n",
       "      <td>0</td>\n",
       "      <td>1</td>\n",
       "      <td>1</td>\n",
       "      <td>0.0</td>\n",
       "      <td>0</td>\n",
       "      <td>BB</td>\n",
       "      <td>GBR</td>\n",
       "      <td>Corporate</td>\n",
       "      <td>Corporate</td>\n",
       "      <td>0</td>\n",
       "      <td>0</td>\n",
       "      <td>0</td>\n",
       "      <td>A</td>\n",
       "      <td>A</td>\n",
       "      <td>0</td>\n",
       "      <td>No Deposit</td>\n",
       "      <td>304.0</td>\n",
       "      <td>NaN</td>\n",
       "      <td>0.0</td>\n",
       "      <td>Transient</td>\n",
       "      <td>75.0</td>\n",
       "      <td>0.0</td>\n",
       "      <td>0.0</td>\n",
       "      <td>Check-Out</td>\n",
       "      <td>2015-07-02</td>\n",
       "      <td>NaN</td>\n",
       "    </tr>\n",
       "    <tr>\n",
       "      <th>4</th>\n",
       "      <td>Resort Hotel</td>\n",
       "      <td>0</td>\n",
       "      <td>14</td>\n",
       "      <td>2015.0</td>\n",
       "      <td>July</td>\n",
       "      <td>27</td>\n",
       "      <td>1</td>\n",
       "      <td>0</td>\n",
       "      <td>2</td>\n",
       "      <td>2</td>\n",
       "      <td>0.0</td>\n",
       "      <td>0</td>\n",
       "      <td>BB</td>\n",
       "      <td>GBR</td>\n",
       "      <td>Online TA</td>\n",
       "      <td>TA/TO</td>\n",
       "      <td>0</td>\n",
       "      <td>0</td>\n",
       "      <td>0</td>\n",
       "      <td>A</td>\n",
       "      <td>A</td>\n",
       "      <td>0</td>\n",
       "      <td>No Deposit</td>\n",
       "      <td>240.0</td>\n",
       "      <td>NaN</td>\n",
       "      <td>0.0</td>\n",
       "      <td>Transient</td>\n",
       "      <td>98.0</td>\n",
       "      <td>0.0</td>\n",
       "      <td>1.0</td>\n",
       "      <td>Check-Out</td>\n",
       "      <td>2015-07-03</td>\n",
       "      <td>NaN</td>\n",
       "    </tr>\n",
       "  </tbody>\n",
       "</table>\n",
       "</div>"
      ],
      "text/plain": [
       "          hotel  is_canceled  lead_time  arrival_date_year arrival_date_month  \\\n",
       "0  Resort Hotel            0        342             2015.0               July   \n",
       "1  Resort Hotel            0        737             2015.0               July   \n",
       "2  Resort Hotel            0          7             2015.0               July   \n",
       "3  Resort Hotel            0         13             2015.0               July   \n",
       "4  Resort Hotel            0         14             2015.0               July   \n",
       "\n",
       "   arrival_date_week_number  arrival_date_day_of_month  \\\n",
       "0                        27                          1   \n",
       "1                        27                          1   \n",
       "2                        27                          1   \n",
       "3                        27                          1   \n",
       "4                        27                          1   \n",
       "\n",
       "   stays_in_weekend_nights  stays_in_week_nights  adults  children  babies  \\\n",
       "0                        0                     0       2       0.0       0   \n",
       "1                        0                     0       2       0.0       0   \n",
       "2                        0                     1       1       0.0       0   \n",
       "3                        0                     1       1       0.0       0   \n",
       "4                        0                     2       2       0.0       0   \n",
       "\n",
       "  meal country market_segment distribution_channel  is_repeated_guest  \\\n",
       "0   BB     PRT         Direct               Direct                  0   \n",
       "1   BB     PRT         Direct               Direct                  0   \n",
       "2   BB     GBR         Direct               Direct                  0   \n",
       "3   BB     GBR      Corporate            Corporate                  0   \n",
       "4   BB     GBR      Online TA                TA/TO                  0   \n",
       "\n",
       "   previous_cancellations  previous_bookings_not_canceled reserved_room_type  \\\n",
       "0                       0                               0                  C   \n",
       "1                       0                               0                  C   \n",
       "2                       0                               0                  A   \n",
       "3                       0                               0                  A   \n",
       "4                       0                               0                  A   \n",
       "\n",
       "  assigned_room_type  booking_changes deposit_type  agent company  \\\n",
       "0                  C                3   No Deposit    NaN     NaN   \n",
       "1                  C                4   No Deposit    NaN     NaN   \n",
       "2                  C                0   No Deposit    NaN     NaN   \n",
       "3                  A                0   No Deposit  304.0     NaN   \n",
       "4                  A                0   No Deposit  240.0     NaN   \n",
       "\n",
       "   days_in_waiting_list customer_type   adr  required_car_parking_spaces  \\\n",
       "0                   0.0     Transient   0.0                          0.0   \n",
       "1                   0.0     Transient   0.0                          0.0   \n",
       "2                   0.0     Transient  75.0                          0.0   \n",
       "3                   0.0     Transient  75.0                          0.0   \n",
       "4                   0.0     Transient  98.0                          0.0   \n",
       "\n",
       "   total_of_special_requests reservation_status reservation_status_date  kids  \n",
       "0                        0.0          Check-Out              2015-07-01   NaN  \n",
       "1                        0.0          Check-Out              2015-07-01   NaN  \n",
       "2                        0.0          Check-Out              2015-07-02   NaN  \n",
       "3                        0.0          Check-Out              2015-07-02   NaN  \n",
       "4                        1.0          Check-Out              2015-07-03   NaN  "
      ]
     },
     "execution_count": 40,
     "metadata": {},
     "output_type": "execute_result"
    }
   ],
   "source": [
    "raw_df.head()"
   ]
  },
  {
   "cell_type": "code",
   "execution_count": 41,
   "id": "4e18ac01693f1e66",
   "metadata": {
    "ExecuteTime": {
     "end_time": "2025-09-20T04:20:35.589026Z",
     "start_time": "2025-09-20T04:20:35.568851Z"
    }
   },
   "outputs": [
    {
     "data": {
      "text/html": [
       "<div>\n",
       "<style scoped>\n",
       "    .dataframe tbody tr th:only-of-type {\n",
       "        vertical-align: middle;\n",
       "    }\n",
       "\n",
       "    .dataframe tbody tr th {\n",
       "        vertical-align: top;\n",
       "    }\n",
       "\n",
       "    .dataframe thead th {\n",
       "        text-align: right;\n",
       "    }\n",
       "</style>\n",
       "<table border=\"1\" class=\"dataframe\">\n",
       "  <thead>\n",
       "    <tr style=\"text-align: right;\">\n",
       "      <th></th>\n",
       "      <th>hotel</th>\n",
       "      <th>is_canceled</th>\n",
       "      <th>lead_time</th>\n",
       "      <th>arrival_date_year</th>\n",
       "      <th>arrival_date_month</th>\n",
       "      <th>arrival_date_week_number</th>\n",
       "      <th>arrival_date_day_of_month</th>\n",
       "      <th>stays_in_weekend_nights</th>\n",
       "      <th>stays_in_week_nights</th>\n",
       "      <th>adults</th>\n",
       "      <th>children</th>\n",
       "      <th>babies</th>\n",
       "      <th>meal</th>\n",
       "      <th>country</th>\n",
       "      <th>market_segment</th>\n",
       "      <th>distribution_channel</th>\n",
       "      <th>is_repeated_guest</th>\n",
       "      <th>previous_cancellations</th>\n",
       "      <th>previous_bookings_not_canceled</th>\n",
       "      <th>reserved_room_type</th>\n",
       "      <th>assigned_room_type</th>\n",
       "      <th>booking_changes</th>\n",
       "      <th>deposit_type</th>\n",
       "      <th>agent</th>\n",
       "      <th>company</th>\n",
       "      <th>days_in_waiting_list</th>\n",
       "      <th>customer_type</th>\n",
       "      <th>adr</th>\n",
       "      <th>required_car_parking_spaces</th>\n",
       "      <th>total_of_special_requests</th>\n",
       "      <th>reservation_status</th>\n",
       "      <th>reservation_status_date</th>\n",
       "    </tr>\n",
       "  </thead>\n",
       "  <tbody>\n",
       "    <tr>\n",
       "      <th>0</th>\n",
       "      <td>Resort Hotel</td>\n",
       "      <td>0</td>\n",
       "      <td>342</td>\n",
       "      <td>2015</td>\n",
       "      <td>July</td>\n",
       "      <td>27</td>\n",
       "      <td>1</td>\n",
       "      <td>0</td>\n",
       "      <td>0</td>\n",
       "      <td>2</td>\n",
       "      <td>0</td>\n",
       "      <td>0</td>\n",
       "      <td>BB</td>\n",
       "      <td>PRT</td>\n",
       "      <td>Direct</td>\n",
       "      <td>Direct</td>\n",
       "      <td>0</td>\n",
       "      <td>0</td>\n",
       "      <td>0</td>\n",
       "      <td>C</td>\n",
       "      <td>C</td>\n",
       "      <td>3</td>\n",
       "      <td>No Deposit</td>\n",
       "      <td>0</td>\n",
       "      <td>0</td>\n",
       "      <td>0</td>\n",
       "      <td>Transient</td>\n",
       "      <td>0.0</td>\n",
       "      <td>0</td>\n",
       "      <td>0</td>\n",
       "      <td>Check-Out</td>\n",
       "      <td>2015-07-01</td>\n",
       "    </tr>\n",
       "    <tr>\n",
       "      <th>1</th>\n",
       "      <td>Resort Hotel</td>\n",
       "      <td>0</td>\n",
       "      <td>737</td>\n",
       "      <td>2015</td>\n",
       "      <td>July</td>\n",
       "      <td>27</td>\n",
       "      <td>1</td>\n",
       "      <td>0</td>\n",
       "      <td>0</td>\n",
       "      <td>2</td>\n",
       "      <td>0</td>\n",
       "      <td>0</td>\n",
       "      <td>BB</td>\n",
       "      <td>PRT</td>\n",
       "      <td>Direct</td>\n",
       "      <td>Direct</td>\n",
       "      <td>0</td>\n",
       "      <td>0</td>\n",
       "      <td>0</td>\n",
       "      <td>C</td>\n",
       "      <td>C</td>\n",
       "      <td>4</td>\n",
       "      <td>No Deposit</td>\n",
       "      <td>0</td>\n",
       "      <td>0</td>\n",
       "      <td>0</td>\n",
       "      <td>Transient</td>\n",
       "      <td>0.0</td>\n",
       "      <td>0</td>\n",
       "      <td>0</td>\n",
       "      <td>Check-Out</td>\n",
       "      <td>2015-07-01</td>\n",
       "    </tr>\n",
       "    <tr>\n",
       "      <th>2</th>\n",
       "      <td>Resort Hotel</td>\n",
       "      <td>0</td>\n",
       "      <td>7</td>\n",
       "      <td>2015</td>\n",
       "      <td>July</td>\n",
       "      <td>27</td>\n",
       "      <td>1</td>\n",
       "      <td>0</td>\n",
       "      <td>1</td>\n",
       "      <td>1</td>\n",
       "      <td>0</td>\n",
       "      <td>0</td>\n",
       "      <td>BB</td>\n",
       "      <td>GBR</td>\n",
       "      <td>Direct</td>\n",
       "      <td>Direct</td>\n",
       "      <td>0</td>\n",
       "      <td>0</td>\n",
       "      <td>0</td>\n",
       "      <td>A</td>\n",
       "      <td>C</td>\n",
       "      <td>0</td>\n",
       "      <td>No Deposit</td>\n",
       "      <td>0</td>\n",
       "      <td>0</td>\n",
       "      <td>0</td>\n",
       "      <td>Transient</td>\n",
       "      <td>75.0</td>\n",
       "      <td>0</td>\n",
       "      <td>0</td>\n",
       "      <td>Check-Out</td>\n",
       "      <td>2015-07-02</td>\n",
       "    </tr>\n",
       "    <tr>\n",
       "      <th>3</th>\n",
       "      <td>Resort Hotel</td>\n",
       "      <td>0</td>\n",
       "      <td>13</td>\n",
       "      <td>2015</td>\n",
       "      <td>July</td>\n",
       "      <td>27</td>\n",
       "      <td>1</td>\n",
       "      <td>0</td>\n",
       "      <td>1</td>\n",
       "      <td>1</td>\n",
       "      <td>0</td>\n",
       "      <td>0</td>\n",
       "      <td>BB</td>\n",
       "      <td>GBR</td>\n",
       "      <td>Corporate</td>\n",
       "      <td>Corporate</td>\n",
       "      <td>0</td>\n",
       "      <td>0</td>\n",
       "      <td>0</td>\n",
       "      <td>A</td>\n",
       "      <td>A</td>\n",
       "      <td>0</td>\n",
       "      <td>No Deposit</td>\n",
       "      <td>304</td>\n",
       "      <td>0</td>\n",
       "      <td>0</td>\n",
       "      <td>Transient</td>\n",
       "      <td>75.0</td>\n",
       "      <td>0</td>\n",
       "      <td>0</td>\n",
       "      <td>Check-Out</td>\n",
       "      <td>2015-07-02</td>\n",
       "    </tr>\n",
       "    <tr>\n",
       "      <th>4</th>\n",
       "      <td>Resort Hotel</td>\n",
       "      <td>0</td>\n",
       "      <td>14</td>\n",
       "      <td>2015</td>\n",
       "      <td>July</td>\n",
       "      <td>27</td>\n",
       "      <td>1</td>\n",
       "      <td>0</td>\n",
       "      <td>2</td>\n",
       "      <td>2</td>\n",
       "      <td>0</td>\n",
       "      <td>0</td>\n",
       "      <td>BB</td>\n",
       "      <td>GBR</td>\n",
       "      <td>Online TA</td>\n",
       "      <td>TA/TO</td>\n",
       "      <td>0</td>\n",
       "      <td>0</td>\n",
       "      <td>0</td>\n",
       "      <td>A</td>\n",
       "      <td>A</td>\n",
       "      <td>0</td>\n",
       "      <td>No Deposit</td>\n",
       "      <td>240</td>\n",
       "      <td>0</td>\n",
       "      <td>0</td>\n",
       "      <td>Transient</td>\n",
       "      <td>98.0</td>\n",
       "      <td>0</td>\n",
       "      <td>1</td>\n",
       "      <td>Check-Out</td>\n",
       "      <td>2015-07-03</td>\n",
       "    </tr>\n",
       "  </tbody>\n",
       "</table>\n",
       "</div>"
      ],
      "text/plain": [
       "          hotel  is_canceled  lead_time  arrival_date_year arrival_date_month  \\\n",
       "0  Resort Hotel            0        342               2015               July   \n",
       "1  Resort Hotel            0        737               2015               July   \n",
       "2  Resort Hotel            0          7               2015               July   \n",
       "3  Resort Hotel            0         13               2015               July   \n",
       "4  Resort Hotel            0         14               2015               July   \n",
       "\n",
       "   arrival_date_week_number  arrival_date_day_of_month  \\\n",
       "0                        27                          1   \n",
       "1                        27                          1   \n",
       "2                        27                          1   \n",
       "3                        27                          1   \n",
       "4                        27                          1   \n",
       "\n",
       "   stays_in_weekend_nights  stays_in_week_nights  adults  children  babies  \\\n",
       "0                        0                     0       2         0       0   \n",
       "1                        0                     0       2         0       0   \n",
       "2                        0                     1       1         0       0   \n",
       "3                        0                     1       1         0       0   \n",
       "4                        0                     2       2         0       0   \n",
       "\n",
       "  meal country market_segment distribution_channel  is_repeated_guest  \\\n",
       "0   BB     PRT         Direct               Direct                  0   \n",
       "1   BB     PRT         Direct               Direct                  0   \n",
       "2   BB     GBR         Direct               Direct                  0   \n",
       "3   BB     GBR      Corporate            Corporate                  0   \n",
       "4   BB     GBR      Online TA                TA/TO                  0   \n",
       "\n",
       "   previous_cancellations  previous_bookings_not_canceled reserved_room_type  \\\n",
       "0                       0                               0                  C   \n",
       "1                       0                               0                  C   \n",
       "2                       0                               0                  A   \n",
       "3                       0                               0                  A   \n",
       "4                       0                               0                  A   \n",
       "\n",
       "  assigned_room_type  booking_changes deposit_type  agent  company  \\\n",
       "0                  C                3   No Deposit      0        0   \n",
       "1                  C                4   No Deposit      0        0   \n",
       "2                  C                0   No Deposit      0        0   \n",
       "3                  A                0   No Deposit    304        0   \n",
       "4                  A                0   No Deposit    240        0   \n",
       "\n",
       "   days_in_waiting_list customer_type   adr  required_car_parking_spaces  \\\n",
       "0                     0     Transient   0.0                            0   \n",
       "1                     0     Transient   0.0                            0   \n",
       "2                     0     Transient  75.0                            0   \n",
       "3                     0     Transient  75.0                            0   \n",
       "4                     0     Transient  98.0                            0   \n",
       "\n",
       "   total_of_special_requests reservation_status reservation_status_date  \n",
       "0                          0          Check-Out              2015-07-01  \n",
       "1                          0          Check-Out              2015-07-01  \n",
       "2                          0          Check-Out              2015-07-02  \n",
       "3                          0          Check-Out              2015-07-02  \n",
       "4                          1          Check-Out              2015-07-03  "
      ]
     },
     "execution_count": 41,
     "metadata": {},
     "output_type": "execute_result"
    }
   ],
   "source": [
    "df.head()"
   ]
  },
  {
   "cell_type": "markdown",
   "id": "f66a301d",
   "metadata": {},
   "source": "### 4. Save the data cleaned into a new file"
  },
  {
   "cell_type": "code",
   "execution_count": 11,
   "id": "63327c21",
   "metadata": {},
   "outputs": [],
   "source": [
    "df.to_csv(\"./data/hotel_bookings_clean.csv\", index=False)"
   ]
  }
 ],
 "metadata": {
  "kernelspec": {
   "display_name": "Python 3",
   "language": "python",
   "name": "python3"
  },
  "language_info": {
   "codemirror_mode": {
    "name": "ipython",
    "version": 3
   },
   "file_extension": ".py",
   "mimetype": "text/x-python",
   "name": "python",
   "nbconvert_exporter": "python",
   "pygments_lexer": "ipython3",
   "version": "3.10.18"
  }
 },
 "nbformat": 4,
 "nbformat_minor": 5
}
